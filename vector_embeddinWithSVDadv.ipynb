{
 "cells": [
  {
   "cell_type": "code",
   "execution_count": 1,
   "id": "bdee3034",
   "metadata": {},
   "outputs": [],
   "source": [
    "import torch\n",
    "import torch.nn as nn\n",
    "import torch.optim as optim\n",
    "\n"
   ]
  },
  {
   "cell_type": "code",
   "execution_count": 3,
   "id": "38fc0f4c",
   "metadata": {},
   "outputs": [
    {
     "data": {
      "text/html": [
       "<div>\n",
       "<style scoped>\n",
       "    .dataframe tbody tr th:only-of-type {\n",
       "        vertical-align: middle;\n",
       "    }\n",
       "\n",
       "    .dataframe tbody tr th {\n",
       "        vertical-align: top;\n",
       "    }\n",
       "\n",
       "    .dataframe thead th {\n",
       "        text-align: right;\n",
       "    }\n",
       "</style>\n",
       "<table border=\"1\" class=\"dataframe\">\n",
       "  <thead>\n",
       "    <tr style=\"text-align: right;\">\n",
       "      <th></th>\n",
       "      <th>ID</th>\n",
       "      <th>SUBCLASS</th>\n",
       "      <th>A2M</th>\n",
       "      <th>AAAS</th>\n",
       "      <th>AADAT</th>\n",
       "      <th>AARS1</th>\n",
       "      <th>ABAT</th>\n",
       "      <th>ABCA1</th>\n",
       "      <th>ABCA2</th>\n",
       "      <th>ABCA3</th>\n",
       "      <th>...</th>\n",
       "      <th>ZNF292</th>\n",
       "      <th>ZNF365</th>\n",
       "      <th>ZNF639</th>\n",
       "      <th>ZNF707</th>\n",
       "      <th>ZNFX1</th>\n",
       "      <th>ZNRF4</th>\n",
       "      <th>ZPBP</th>\n",
       "      <th>ZW10</th>\n",
       "      <th>ZWINT</th>\n",
       "      <th>ZYX</th>\n",
       "    </tr>\n",
       "  </thead>\n",
       "  <tbody>\n",
       "    <tr>\n",
       "      <th>0</th>\n",
       "      <td>TRAIN_0000</td>\n",
       "      <td>KIPAN</td>\n",
       "      <td>WT</td>\n",
       "      <td>WT</td>\n",
       "      <td>WT</td>\n",
       "      <td>WT</td>\n",
       "      <td>WT</td>\n",
       "      <td>WT</td>\n",
       "      <td>WT</td>\n",
       "      <td>WT</td>\n",
       "      <td>...</td>\n",
       "      <td>WT</td>\n",
       "      <td>WT</td>\n",
       "      <td>WT</td>\n",
       "      <td>WT</td>\n",
       "      <td>WT</td>\n",
       "      <td>WT</td>\n",
       "      <td>WT</td>\n",
       "      <td>WT</td>\n",
       "      <td>WT</td>\n",
       "      <td>WT</td>\n",
       "    </tr>\n",
       "  </tbody>\n",
       "</table>\n",
       "<p>1 rows × 4386 columns</p>\n",
       "</div>"
      ],
      "text/plain": [
       "           ID SUBCLASS A2M AAAS AADAT AARS1 ABAT ABCA1 ABCA2 ABCA3  ...  \\\n",
       "0  TRAIN_0000    KIPAN  WT   WT    WT    WT   WT    WT    WT    WT  ...   \n",
       "\n",
       "  ZNF292 ZNF365 ZNF639 ZNF707 ZNFX1 ZNRF4 ZPBP ZW10 ZWINT ZYX  \n",
       "0     WT     WT     WT     WT    WT    WT   WT   WT    WT  WT  \n",
       "\n",
       "[1 rows x 4386 columns]"
      ]
     },
     "execution_count": 3,
     "metadata": {},
     "output_type": "execute_result"
    }
   ],
   "source": [
    "#cancer\n",
    "import pandas as pd\n",
    "import numpy as np\n",
    "\n",
    "data = pd.read_csv('./data/train.csv')\n",
    "\n",
    "data.head(1)"
   ]
  },
  {
   "cell_type": "code",
   "execution_count": 7,
   "id": "8f1366a4",
   "metadata": {},
   "outputs": [],
   "source": [
    "# 2번째 컬럼부터 유전자 정보 선택\n",
    "df = data.iloc[:, 2:].copy()\n",
    "\n",
    "# 유전자 부위를 숫자로 변환 (매핑 저장)\n",
    "gene_map = {gene: idx for idx, gene in enumerate(df.columns)}\n",
    "\n"
   ]
  },
  {
   "cell_type": "code",
   "execution_count": 8,
   "id": "ee895a95",
   "metadata": {},
   "outputs": [
    {
     "name": "stdout",
     "output_type": "stream",
     "text": [
      "      A2M  AAAS  AADAT  AARS1  ABAT  ABCA1  ABCA2  ABCA3  ABCA4  ABCA5  ...  \\\n",
      "0       0     0      0      0     0      0      0      0      0      0  ...   \n",
      "1       0     0      0      0     0      0      0      0      0      0  ...   \n",
      "2       1     0      0      0     0      0      0      0      0      0  ...   \n",
      "3       0     0      0      0     0      0      0      0      0      0  ...   \n",
      "4       0     0      0      0     0      0      0      0      0      0  ...   \n",
      "...   ...   ...    ...    ...   ...    ...    ...    ...    ...    ...  ...   \n",
      "6196    0     0      0      0     0      0      0      0      0      0  ...   \n",
      "6197    0     0      0      0     0      0      0      0      0      0  ...   \n",
      "6198    0     0      0      0     0      0      0      0      0      0  ...   \n",
      "6199    0     0      0      0     0      0      0      0      0      0  ...   \n",
      "6200    0     0      0      0     0      0      0      0      0      0  ...   \n",
      "\n",
      "      ZNF292  ZNF365  ZNF639  ZNF707  ZNFX1  ZNRF4  ZPBP  ZW10  ZWINT  ZYX  \n",
      "0          0       0       0       0      0      0     0     0      0    0  \n",
      "1          0       0       0       0      0      0     0     0      0    0  \n",
      "2          0       0       0       0      0      0     0     0      0    0  \n",
      "3          0       0       0       0      0      0     0     0      0    0  \n",
      "4          0       0       0       0      0      0     0     0      0    0  \n",
      "...      ...     ...     ...     ...    ...    ...   ...   ...    ...  ...  \n",
      "6196       0       0       0       0      0      0     0     0      0    0  \n",
      "6197       0       0       0       0      0      0     0     0      0    0  \n",
      "6198       0       0       0       0      0      0     0     0      1    0  \n",
      "6199       0       0       0       0      0      0     0     0      0    0  \n",
      "6200       0       0       0       0      0      0     0     0      0    0  \n",
      "\n",
      "[6201 rows x 4384 columns]\n",
      "       A2M  AAAS  AADAT  AARS1  ABAT  ABCA1  ABCA2  ABCA3  ABCA4  ABCA5  ...  \\\n",
      "A2M      0    10      6      0    10     29     18     25     33     23  ...   \n",
      "AAAS    10     0      4      0     4     10      7     10     14     12  ...   \n",
      "AADAT    6     4      0      0     3      8      6      7     10      7  ...   \n",
      "AARS1    0     0      0      0     0      0      0      0      0      0  ...   \n",
      "ABAT    10     4      3      0     0     11      8     10     16      8  ...   \n",
      "...    ...   ...    ...    ...   ...    ...    ...    ...    ...    ...  ...   \n",
      "ZNRF4   17     6      2      0     3     12      7     16     12      9  ...   \n",
      "ZPBP    11     4      4      0     4     11      6     10     10     11  ...   \n",
      "ZW10    13     6      5      0     8     17     11     12     17     13  ...   \n",
      "ZWINT    3     2      0      0     2      6      2      7      4      4  ...   \n",
      "ZYX     14     5      3      0     3      8      7     11     17     10  ...   \n",
      "\n",
      "       ZNF292  ZNF365  ZNF639  ZNF707  ZNFX1  ZNRF4  ZPBP  ZW10  ZWINT  ZYX  \n",
      "A2M        32      13       8       3     25     17    11    13      3   14  \n",
      "AAAS       16       9       3       3     12      6     4     6      2    5  \n",
      "AADAT       8       3       0       3      8      2     4     5      0    3  \n",
      "AARS1       0       0       0       0      0      0     0     0      0    0  \n",
      "ABAT       15       6       4       3     10      3     4     8      2    3  \n",
      "...       ...     ...     ...     ...    ...    ...   ...   ...    ...  ...  \n",
      "ZNRF4      10       7       4       4     12      0     2     8      5    7  \n",
      "ZPBP       18       3       2       3      9      2     0     5      0    3  \n",
      "ZW10       16       7       5       3     14      8     5     0      2    9  \n",
      "ZWINT       4       2       1       1      5      5     0     2      0    2  \n",
      "ZYX        12       8       6       2     10      7     3     9      2    0  \n",
      "\n",
      "[4384 rows x 4384 columns]\n"
     ]
    }
   ],
   "source": [
    "# \"WT\"가 아닌 값들을 0/1 변이 행렬로 변환\n",
    "mutation_matrix = df.applymap(lambda x: 1 if x != \"WT\" else 0)\n",
    "\n",
    "print(mutation_matrix)\n",
    "\n",
    "# 공존 행렬 생성 (변이 행렬의 전치 행렬과 원본 행렬의 내적)\n",
    "co_occurrence_matrix = mutation_matrix.T.dot(mutation_matrix)\n",
    "\n",
    "# 자기 자신과의 공존(대각선 요소)은 0으로 설정\n",
    "np.fill_diagonal(co_occurrence_matrix.to_numpy(), 0)\n",
    "\n",
    "\n",
    "print(co_occurrence_matrix)\n"
   ]
  },
  {
   "cell_type": "code",
   "execution_count": 9,
   "id": "ae239423",
   "metadata": {},
   "outputs": [],
   "source": [
    "occurrence_matrix = co_occurrence_matrix.to_numpy()"
   ]
  },
  {
   "cell_type": "code",
   "execution_count": 10,
   "id": "25759cf2",
   "metadata": {},
   "outputs": [],
   "source": [
    "import numpy as np\n",
    "from sklearn.preprocessing import normalize\n",
    "\n",
    "# 3. SVD\n",
    "U, S, Vt = np.linalg.svd(occurrence_matrix)\n",
    "\n",
    "# 4. Embedding 선택\n",
    "k = 150\n",
    "gene_embeddings = U[:, :k] * np.sqrt(S[:k])  # shape: [num_genes, k]\n",
    "\n",
    "# 5. normalize (선택)\n",
    "gene_embeddings = normalize(gene_embeddings, axis=1)"
   ]
  },
  {
   "cell_type": "code",
   "execution_count": 18,
   "id": "ba594833",
   "metadata": {},
   "outputs": [],
   "source": [
    "import os"
   ]
  },
  {
   "cell_type": "code",
   "execution_count": 20,
   "id": "7bb7e14c",
   "metadata": {},
   "outputs": [],
   "source": [
    "np.save(os.path.join(\"data\", \"gene_embedSVD.npy\"), gene_embeddings)"
   ]
  },
  {
   "cell_type": "code",
   "execution_count": null,
   "id": "b504a7d6",
   "metadata": {},
   "outputs": [],
   "source": []
  }
 ],
 "metadata": {
  "kernelspec": {
   "display_name": "rl38",
   "language": "python",
   "name": "python3"
  },
  "language_info": {
   "codemirror_mode": {
    "name": "ipython",
    "version": 3
   },
   "file_extension": ".py",
   "mimetype": "text/x-python",
   "name": "python",
   "nbconvert_exporter": "python",
   "pygments_lexer": "ipython3",
   "version": "3.8.20"
  }
 },
 "nbformat": 4,
 "nbformat_minor": 5
}
